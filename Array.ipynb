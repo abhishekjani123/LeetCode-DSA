{
  "nbformat": 4,
  "nbformat_minor": 0,
  "metadata": {
    "colab": {
      "provenance": [],
      "authorship_tag": "ABX9TyP6UgrkeQ1XX5L3fXMtrHGr",
      "include_colab_link": true
    },
    "kernelspec": {
      "name": "python3",
      "display_name": "Python 3"
    },
    "language_info": {
      "name": "python"
    }
  },
  "cells": [
    {
      "cell_type": "markdown",
      "metadata": {
        "id": "view-in-github",
        "colab_type": "text"
      },
      "source": [
        "<a href=\"https://colab.research.google.com/github/abhishekjani123/LeetCode-DSA/blob/main/Array.ipynb\" target=\"_parent\"><img src=\"https://colab.research.google.com/assets/colab-badge.svg\" alt=\"Open In Colab\"/></a>"
      ]
    },
    {
      "cell_type": "markdown",
      "source": [
        "# Static Array:"
      ],
      "metadata": {
        "id": "WXNAR1i5wAIR"
      }
    },
    {
      "cell_type": "markdown",
      "source": [
        "## Insert a Value 'n' into an array (arr) at a next open position:\n"
      ],
      "metadata": {
        "id": "Hk-rUiE2wEsM"
      }
    },
    {
      "cell_type": "code",
      "execution_count": 9,
      "metadata": {
        "colab": {
          "base_uri": "https://localhost:8080/"
        },
        "id": "CBnV31Fivsbb",
        "outputId": "1401b588-d87a-4d57-b29c-e6b0f627c086"
      },
      "outputs": [
        {
          "output_type": "stream",
          "name": "stdout",
          "text": [
            "[1, 2, 3, 4, 5, 6, 0, 0, 0, 0]\n"
          ]
        }
      ],
      "source": [
        "def insertEnd(arr, n, length, capacity):\n",
        "  if length < capacity:\n",
        "    arr[length] = n\n",
        "\n",
        "arr = [1,2,3,4,5,0,0,0,0,0] # Here 0 represents empty space in a Static Array of Size 10\n",
        "insertEnd(arr, 6, 5, 10)\n",
        "print(arr)"
      ]
    },
    {
      "cell_type": "markdown",
      "source": [
        "## Remove from the Last Position in the array, if the array is non-empty:"
      ],
      "metadata": {
        "id": "cpIQMz6Xx_LO"
      }
    },
    {
      "cell_type": "code",
      "source": [
        "def removeEnd(arr, lenght):\n",
        "  if lenght > 0:\n",
        "    arr[lenght - 1] = 0\n",
        "\n",
        "\n",
        "arr = [1,2,3]\n",
        "removeEnd(arr, 3)\n",
        "print(arr)"
      ],
      "metadata": {
        "colab": {
          "base_uri": "https://localhost:8080/"
        },
        "id": "y0LbtuMkwfJm",
        "outputId": "efd01b4b-9b9f-47c6-d29e-b4b1059f7549"
      },
      "execution_count": 10,
      "outputs": [
        {
          "output_type": "stream",
          "name": "stdout",
          "text": [
            "[1, 2, 0]\n"
          ]
        }
      ]
    },
    {
      "cell_type": "code",
      "source": [],
      "metadata": {
        "id": "YVHw-Xb-yj0_"
      },
      "execution_count": null,
      "outputs": []
    }
  ]
}